{
 "cells": [
  {
   "cell_type": "markdown",
   "id": "8d6adaa6-aaf9-4cfd-91fc-f489e71b16ad",
   "metadata": {},
   "source": [
    "# Cloud, HPC & QC Final Project"
   ]
  },
  {
   "cell_type": "markdown",
   "id": "ba820dc5-54bd-4e92-b20a-f1b956e2c13b",
   "metadata": {},
   "source": [
    "Riley Tuccio"
   ]
  },
  {
   "cell_type": "markdown",
   "id": "31322860-d92c-4db8-bb54-411871429862",
   "metadata": {},
   "source": [
    "## Info on Methods, Data and Project"
   ]
  },
  {
   "cell_type": "markdown",
   "id": "54c94eae-7de4-4103-b28c-105cd6dbbf34",
   "metadata": {},
   "source": [
    "### Dependent Libraries"
   ]
  },
  {
   "cell_type": "code",
   "execution_count": 5,
   "id": "d1ee8e12-93c7-4194-a4ac-a6a873102b61",
   "metadata": {},
   "outputs": [],
   "source": [
    "import pandas as pd\n",
    "import seaborn as sns\n",
    "import matplotlib.pyplot as plt\n",
    "import numpy as np\n",
    "from sklearn.model_selection import train_test_split"
   ]
  },
  {
   "cell_type": "markdown",
   "id": "675d9948-441d-4b5d-aac3-a0fadec6e99d",
   "metadata": {},
   "source": [
    "### Data Information"
   ]
  },
  {
   "cell_type": "markdown",
   "id": "aebb06a5-4a12-4917-810a-482588035109",
   "metadata": {},
   "source": [
    "Data Source: https://www.kaggle.com/datasets/mrpantherson/dnd-5e-monsters"
   ]
  },
  {
   "cell_type": "markdown",
   "id": "d9a9b472-4b2e-413e-b7fd-754eabc688f3",
   "metadata": {},
   "source": [
    "**What is DND?:** Dungeons and Dragons, also known as \"DND\" is a multi-player tabletop roleplaying game where a game master creates fictional adventures for the rest of the players to improvise stories off of. This works as as sandbox environment for campaigns that can last for months. A Game that was created in the 70s, there have been multiple additions of the guidebook, a book that contains rules and already created characters for the game master to build fictional stories off of. "
   ]
  },
  {
   "cell_type": "markdown",
   "id": "84cb77a8-291d-433c-977a-ac5862552425",
   "metadata": {},
   "source": [
    "**What are DND Monsters?:** DND monsters are already created antagonists to create stakes in the game. The goal of campaigns is to defeat these monsters either in combot or in descilation. These monsters have gradually defined statistics, with some harder than others, and all having their own individual "
   ]
  },
  {
   "cell_type": "code",
   "execution_count": null,
   "id": "f6fc8618-cd46-422a-a1c4-aebfc339ed2b",
   "metadata": {},
   "outputs": [],
   "source": []
  },
  {
   "cell_type": "code",
   "execution_count": 6,
   "id": "c6a166b7-3d69-454e-91cc-f75056a6e703",
   "metadata": {},
   "outputs": [],
   "source": [
    "#url = \"/scratch/ptolemy/users/rnt89/FinalProject/dnd_monsters.csv\"\n",
    "url = r\"C:\\Users\\Riley\\Downloads\\ComputingLab_DSCI2022\\FinalProject\\dnd_monsters.csv\"\n",
    "dnd = pd.read_csv(url)"
   ]
  },
  {
   "cell_type": "code",
   "execution_count": 7,
   "id": "58fc1665-20e1-462f-8673-2c2d55e61a82",
   "metadata": {},
   "outputs": [
    {
     "name": "stdout",
     "output_type": "stream",
     "text": [
      "<class 'pandas.core.frame.DataFrame'>\n",
      "RangeIndex: 762 entries, 0 to 761\n",
      "Data columns (total 17 columns):\n",
      " #   Column     Non-Null Count  Dtype  \n",
      "---  ------     --------------  -----  \n",
      " 0   name       762 non-null    object \n",
      " 1   url        401 non-null    object \n",
      " 2   cr         761 non-null    object \n",
      " 3   type       762 non-null    object \n",
      " 4   size       762 non-null    object \n",
      " 5   ac         762 non-null    int64  \n",
      " 6   hp         762 non-null    int64  \n",
      " 7   speed      248 non-null    object \n",
      " 8   align      762 non-null    object \n",
      " 9   legendary  43 non-null     object \n",
      " 10  source     762 non-null    object \n",
      " 11  str        401 non-null    float64\n",
      " 12  dex        401 non-null    float64\n",
      " 13  con        401 non-null    float64\n",
      " 14  int        401 non-null    float64\n",
      " 15  wis        401 non-null    float64\n",
      " 16  cha        401 non-null    float64\n",
      "dtypes: float64(6), int64(2), object(9)\n",
      "memory usage: 101.3+ KB\n"
     ]
    }
   ],
   "source": [
    "dnd.info()"
   ]
  },
  {
   "cell_type": "code",
   "execution_count": 8,
   "id": "5291996d-f9d0-43e6-ba2c-aa4453e8921b",
   "metadata": {},
   "outputs": [
    {
     "name": "stdout",
     "output_type": "stream",
     "text": [
      "<class 'pandas.core.frame.DataFrame'>\n",
      "RangeIndex: 762 entries, 0 to 761\n",
      "Data columns (total 17 columns):\n",
      " #   Column     Non-Null Count  Dtype  \n",
      "---  ------     --------------  -----  \n",
      " 0   name       762 non-null    object \n",
      " 1   url        401 non-null    object \n",
      " 2   cr         761 non-null    object \n",
      " 3   type       762 non-null    object \n",
      " 4   size       762 non-null    object \n",
      " 5   ac         762 non-null    int64  \n",
      " 6   hp         762 non-null    int64  \n",
      " 7   speed      248 non-null    object \n",
      " 8   align      762 non-null    object \n",
      " 9   legendary  43 non-null     object \n",
      " 10  source     762 non-null    object \n",
      " 11  str        401 non-null    float64\n",
      " 12  dex        401 non-null    float64\n",
      " 13  con        401 non-null    float64\n",
      " 14  int        401 non-null    float64\n",
      " 15  wis        401 non-null    float64\n",
      " 16  cha        401 non-null    float64\n",
      "dtypes: float64(6), int64(2), object(9)\n",
      "memory usage: 101.3+ KB\n"
     ]
    }
   ],
   "source": [
    "dnd.info()"
   ]
  },
  {
   "cell_type": "markdown",
   "id": "f41f5c02-4067-468c-95c2-a6038048a41c",
   "metadata": {},
   "source": [
    "### Project Goals"
   ]
  },
  {
   "cell_type": "markdown",
   "id": "6d51d1a7-8cee-4a60-8a22-6519e5cfa33c",
   "metadata": {},
   "source": [
    "The goal of this project is to determine an efficent classification machine learning model that can determine the size of a monster by its stats. Then after that, using unsupervised classification, to see if there are any clusters formed by monsters."
   ]
  },
  {
   "cell_type": "markdown",
   "id": "a5e0d8e4-4f9b-4b51-a86d-2d835149ea08",
   "metadata": {},
   "source": [
    "While Creating these models, the affects of variances in resources will be tested with the modeling to see how they affect accuracy and computing time."
   ]
  },
  {
   "cell_type": "markdown",
   "id": "d88eb524-3984-4b27-97b6-8ebb2e677df0",
   "metadata": {},
   "source": [
    "### Methods"
   ]
  },
  {
   "cell_type": "markdown",
   "id": "9afefd0a-deb0-46ed-a7cb-299cbd81c0f9",
   "metadata": {},
   "source": [
    "***Random Forests:***  Random Forests, an algorithm that makes many decision trees for classification, will be used to do the  model that determines size based on the other attributes of the variables. "
   ]
  },
  {
   "cell_type": "markdown",
   "id": "da1b8ebe-27ef-4711-9470-113e0bff7a26",
   "metadata": {},
   "source": [
    "***SKlearn:*** Sklearn is a python module that has many machine learning tools in it's library. We'll use their random forest function along with others to determine train and test data."
   ]
  },
  {
   "cell_type": "markdown",
   "id": "2efb5a2e-03e1-4861-bb56-63ec4c9a3ed5",
   "metadata": {},
   "source": [
    "***MultiProcessing:*** Multiprocessing has independent processes with shared memeory, and to understand how parameters of resources can be affected, Multiprocessing should be used. "
   ]
  },
  {
   "cell_type": "markdown",
   "id": "79a3b12d-4b99-40c3-8953-93cfafea4a86",
   "metadata": {},
   "source": [
    "## Pre-Processing"
   ]
  },
  {
   "cell_type": "markdown",
   "id": "e5f5e972-b865-47e6-9948-5e88a714750f",
   "metadata": {},
   "source": [
    "### Dropping Nulls and Legendary column"
   ]
  },
  {
   "cell_type": "code",
   "execution_count": 9,
   "id": "fab9cc8f-6c92-4864-a205-3d9cf29cb0de",
   "metadata": {},
   "outputs": [],
   "source": [
    "dnd = dnd.drop(['legendary','speed'],axis=1)"
   ]
  },
  {
   "cell_type": "code",
   "execution_count": 10,
   "id": "341e08db-6666-4933-8578-0fc53615c71d",
   "metadata": {
    "scrolled": true
   },
   "outputs": [],
   "source": [
    "dnd = dnd.dropna()"
   ]
  },
  {
   "cell_type": "code",
   "execution_count": 11,
   "id": "3d213a13-b3fa-4914-8dcc-ae1cc71ba383",
   "metadata": {},
   "outputs": [
    {
     "name": "stdout",
     "output_type": "stream",
     "text": [
      "<class 'pandas.core.frame.DataFrame'>\n",
      "Index: 401 entries, 0 to 760\n",
      "Data columns (total 15 columns):\n",
      " #   Column  Non-Null Count  Dtype  \n",
      "---  ------  --------------  -----  \n",
      " 0   name    401 non-null    object \n",
      " 1   url     401 non-null    object \n",
      " 2   cr      401 non-null    object \n",
      " 3   type    401 non-null    object \n",
      " 4   size    401 non-null    object \n",
      " 5   ac      401 non-null    int64  \n",
      " 6   hp      401 non-null    int64  \n",
      " 7   align   401 non-null    object \n",
      " 8   source  401 non-null    object \n",
      " 9   str     401 non-null    float64\n",
      " 10  dex     401 non-null    float64\n",
      " 11  con     401 non-null    float64\n",
      " 12  int     401 non-null    float64\n",
      " 13  wis     401 non-null    float64\n",
      " 14  cha     401 non-null    float64\n",
      "dtypes: float64(6), int64(2), object(7)\n",
      "memory usage: 50.1+ KB\n"
     ]
    }
   ],
   "source": [
    "dnd.info()"
   ]
  },
  {
   "cell_type": "markdown",
   "id": "2f1e5679-9a4f-4558-b7a6-1fc505e82b19",
   "metadata": {},
   "source": [
    "### Fixing the cr column"
   ]
  },
  {
   "cell_type": "code",
   "execution_count": 12,
   "id": "8071579b-76c7-45f8-8669-2697c65090d2",
   "metadata": {},
   "outputs": [
    {
     "data": {
      "text/plain": [
       "array(['1/4', '10', '14', '16', '13', '15', '17', '5', '2', '21', '23',\n",
       "       '20', '22', '24', '1', '3', '6', '1/2', '12', '8', '0', '19',\n",
       "       '1/8', '4', '11', '9', '7', '26', '18', '30'], dtype=object)"
      ]
     },
     "execution_count": 12,
     "metadata": {},
     "output_type": "execute_result"
    }
   ],
   "source": [
    "dnd['cr'].unique()"
   ]
  },
  {
   "cell_type": "code",
   "execution_count": 13,
   "id": "9bdaf916-7728-496b-b099-ce59c9dd065c",
   "metadata": {},
   "outputs": [
    {
     "name": "stdout",
     "output_type": "stream",
     "text": [
      "0.25 fixed\n",
      "0.5 fixed\n",
      "0.125 fixed\n"
     ]
    }
   ],
   "source": [
    "changing = ['1/4','1/2','1/8']\n",
    "numeric = ['0.25','0.5','0.125']\n",
    "zipped = zip(changing,numeric)\n",
    "for fraction,number in zipped:\n",
    "    dnd.loc[dnd['cr'].str.contains(fraction, na=False), 'cr'] = number\n",
    "    print(f'{number} fixed')"
   ]
  },
  {
   "cell_type": "code",
   "execution_count": 14,
   "id": "75b4a833-4c4e-4c85-96dd-f0b7f92ca44c",
   "metadata": {},
   "outputs": [],
   "source": [
    "dnd['cr'] = dnd['cr'].astype('float64')"
   ]
  },
  {
   "cell_type": "code",
   "execution_count": 15,
   "id": "1e3135b9-ac7e-40ba-bef2-0249f258df71",
   "metadata": {},
   "outputs": [
    {
     "data": {
      "text/plain": [
       "cr\n",
       "2.000     52\n",
       "0.250     44\n",
       "0.500     34\n",
       "1.000     32\n",
       "5.000     31\n",
       "0.000     30\n",
       "3.000     29\n",
       "0.125     21\n",
       "4.000     18\n",
       "6.000     15\n",
       "9.000     11\n",
       "8.000     10\n",
       "7.000      9\n",
       "11.000     8\n",
       "10.000     8\n",
       "13.000     7\n",
       "21.000     6\n",
       "16.000     5\n",
       "17.000     5\n",
       "15.000     4\n",
       "20.000     4\n",
       "14.000     4\n",
       "23.000     3\n",
       "26.000     2\n",
       "12.000     2\n",
       "24.000     2\n",
       "22.000     2\n",
       "19.000     1\n",
       "18.000     1\n",
       "30.000     1\n",
       "Name: count, dtype: int64"
      ]
     },
     "execution_count": 15,
     "metadata": {},
     "output_type": "execute_result"
    }
   ],
   "source": [
    "dnd['cr'].value_counts()"
   ]
  },
  {
   "cell_type": "markdown",
   "id": "616df357-88a0-437d-a340-7e1705d27797",
   "metadata": {},
   "source": [
    "### Dropping Long String Columns"
   ]
  },
  {
   "cell_type": "code",
   "execution_count": 16,
   "id": "91ccd382-2f49-4c6d-ba1c-b8e4ecf48afe",
   "metadata": {},
   "outputs": [],
   "source": [
    "dnd = dnd.drop(['name','url','source'],axis=1)"
   ]
  },
  {
   "cell_type": "markdown",
   "id": "c49b7538-3f67-43ec-9b78-90353924173f",
   "metadata": {},
   "source": [
    "### Fixing Type Column"
   ]
  },
  {
   "cell_type": "code",
   "execution_count": 17,
   "id": "232363ca-bf62-4d32-a7ec-b78ebbe5f948",
   "metadata": {},
   "outputs": [
    {
     "data": {
      "text/plain": [
       "array(['humanoid (aarakocra)', 'aberration', 'humanoid (any race)',\n",
       "       'dragon', 'elemental', 'beast', 'undead', 'monstrosity',\n",
       "       'construct', 'fey', 'monstrosity (titan)', 'plant',\n",
       "       'fiend (demon)', 'fiend (devil)', 'fiend (shapechanger)', 'ooze',\n",
       "       'humanoid (goblinoid)', 'humanoid (bullywug)', 'giant',\n",
       "       'celestial', 'humanoid (gnome)', 'monstrosity (shapechanger)',\n",
       "       'humanoid (elf)', 'humanoid (dwarf)', 'humanoid (gnoll)',\n",
       "       'humanoid (grimlock)', 'humanoid (human)', 'fiend',\n",
       "       'fiend (devil, shapechanger)', 'humanoid (shapechanger)',\n",
       "       'humanoid (kenku)', 'humanoid (kobold)', 'humanoid (kuo-toa)',\n",
       "       'humanoid (lizardfolk)', 'humanoid (merfolk)', 'fiend (yugoloth)',\n",
       "       'humanoid (orc)', 'fiend (demon, shapechanger)',\n",
       "       'humanoid (sahuagin)', 'giant (stone giant)',\n",
       "       'swarm of Tiny beasts', 'fiend (demon, orc)',\n",
       "       'humanoid (troglodyte)', 'undead (shapechanger)',\n",
       "       'humanoid (human, shapechanger)',\n",
       "       'monstrosity (shapechanger, yuan-ti)', 'humanoid (yuan-ti)'],\n",
       "      dtype=object)"
      ]
     },
     "execution_count": 17,
     "metadata": {},
     "output_type": "execute_result"
    }
   ],
   "source": [
    "dnd['type'].unique()"
   ]
  },
  {
   "cell_type": "code",
   "execution_count": 18,
   "id": "ebac19dd-dbc2-4e33-9f74-7d977228a709",
   "metadata": {},
   "outputs": [
    {
     "name": "stdout",
     "output_type": "stream",
     "text": [
      "humanoid consolidated\n",
      "abberation consolidated\n",
      "monstrosity consolidated\n",
      "undead consolidated\n",
      "dragon consolidated\n",
      "ooze consolidated\n",
      "elemental consolidated\n",
      "fiend consolidated\n",
      "fey consolidated\n",
      "plant consolidated\n",
      "giant consolidated\n",
      "construct consolidated\n",
      "celestial consolidated\n"
     ]
    }
   ],
   "source": [
    "types = ['humanoid','abberation','monstrosity','undead','dragon','ooze','elemental','fiend', 'fey','plant','giant','construct','celestial']\n",
    "for type in types:\n",
    "    dnd.loc[dnd['type'].str.contains(type, na=False), 'type'] = type\n",
    "    print(f'{type} consolidated')"
   ]
  },
  {
   "cell_type": "code",
   "execution_count": 19,
   "id": "03672651-b01d-468c-b0f4-72b9aac8fbf8",
   "metadata": {},
   "outputs": [
    {
     "data": {
      "text/plain": [
       "type\n",
       "beast                   97\n",
       "humanoid                64\n",
       "monstrosity             49\n",
       "dragon                  43\n",
       "fiend                   35\n",
       "undead                  25\n",
       "elemental               22\n",
       "giant                   13\n",
       "aberration              10\n",
       "construct               10\n",
       "plant                    8\n",
       "fey                      7\n",
       "swarm of Tiny beasts     7\n",
       "celestial                6\n",
       "ooze                     5\n",
       "Name: count, dtype: int64"
      ]
     },
     "execution_count": 19,
     "metadata": {},
     "output_type": "execute_result"
    }
   ],
   "source": [
    "dnd['type'].value_counts()"
   ]
  },
  {
   "cell_type": "markdown",
   "id": "752f64ec-d69a-41e0-984e-a52a170947d8",
   "metadata": {},
   "source": [
    "## Data Analysis"
   ]
  },
  {
   "cell_type": "markdown",
   "id": "b58fc2cd-4782-4744-aebf-f855f80056cc",
   "metadata": {},
   "source": [
    "### Distribution of Variables"
   ]
  },
  {
   "cell_type": "markdown",
   "id": "40e3887a-1d4c-4a2f-8040-6aac369408c0",
   "metadata": {},
   "source": [
    "#### Size"
   ]
  },
  {
   "cell_type": "code",
   "execution_count": 20,
   "id": "6970ff71-ad44-4a34-a846-a7e2af79faf1",
   "metadata": {},
   "outputs": [
    {
     "data": {
      "text/plain": [
       "size\n",
       "Medium        169\n",
       "Large         123\n",
       "Huge           40\n",
       "Small          27\n",
       "Tiny           26\n",
       "Gargantuan     16\n",
       "Name: count, dtype: int64"
      ]
     },
     "execution_count": 20,
     "metadata": {},
     "output_type": "execute_result"
    }
   ],
   "source": [
    "dnd['size'].value_counts()"
   ]
  },
  {
   "cell_type": "markdown",
   "id": "e8d2dc59-1ba5-4efb-9501-9cfe08a160d8",
   "metadata": {},
   "source": [
    "#### Type"
   ]
  },
  {
   "cell_type": "code",
   "execution_count": 21,
   "id": "60628886-ea5f-4a58-8b52-b01491b87a31",
   "metadata": {},
   "outputs": [
    {
     "data": {
      "text/plain": [
       "array(['humanoid', 'aberration', 'dragon', 'elemental', 'beast', 'undead',\n",
       "       'monstrosity', 'construct', 'fey', 'plant', 'fiend', 'ooze',\n",
       "       'giant', 'celestial', 'swarm of Tiny beasts'], dtype=object)"
      ]
     },
     "execution_count": 21,
     "metadata": {},
     "output_type": "execute_result"
    }
   ],
   "source": [
    "dnd['type'].unique()"
   ]
  },
  {
   "cell_type": "markdown",
   "id": "4891e035-fa72-47ac-b7ac-7412b5c5f7da",
   "metadata": {},
   "source": [
    "#### Stats (Strength, Dexterity, Constitution, Intelligence, Wisdom, Charisma)"
   ]
  },
  {
   "cell_type": "code",
   "execution_count": 22,
   "id": "5645d1d9-4d7c-4340-8786-f32f26d60f2e",
   "metadata": {},
   "outputs": [
    {
     "data": {
      "text/plain": [
       "['con', 'int', 'wis', 'cha']"
      ]
     },
     "execution_count": 22,
     "metadata": {},
     "output_type": "execute_result"
    }
   ],
   "source": [
    "nonCat = dnd.iloc[:,8:]\n",
    "nonCatList = list(nonCat.columns.values)\n",
    "nonCatList"
   ]
  },
  {
   "cell_type": "code",
   "execution_count": 23,
   "id": "3b420e8a-9c28-4b05-8b41-67ffe40f120f",
   "metadata": {},
   "outputs": [
    {
     "name": "stdout",
     "output_type": "stream",
     "text": [
      "con\n",
      "Skew : 0.87\n"
     ]
    },
    {
     "data": {
      "image/png": "[encoded data removed]",
      "text/plain": [
       "<Figure size 1500x400 with 2 Axes>"
      ]
     },
     "metadata": {},
     "output_type": "display_data"
    },
    {
     "name": "stdout",
     "output_type": "stream",
     "text": [
      "int\n",
      "Skew : 0.46\n"
     ]
    },
    {
     "data": {
      "image/png": "[encoded data removed]",
      "text/plain": [
       "<Figure size 1500x400 with 2 Axes>"
      ]
     },
     "metadata": {},
     "output_type": "display_data"
    },
    {
     "name": "stdout",
     "output_type": "stream",
     "text": [
      "wis\n",
      "Skew : 0.7\n"
     ]
    },
    {
     "data": {
      "image/png": "[encoded data removed]",
      "text/plain": [
       "<Figure size 1500x400 with 2 Axes>"
      ]
     },
     "metadata": {},
     "output_type": "display_data"
    },
    {
     "name": "stdout",
     "output_type": "stream",
     "text": [
      "cha\n",
      "Skew : 0.7\n"
     ]
    },
    {
     "data": {
      "image/png": "[encoded data removed]",
      "text/plain": [
       "<Figure size 1500x400 with 2 Axes>"
      ]
     },
     "metadata": {},
     "output_type": "display_data"
    }
   ],
   "source": [
    "\n",
    "\n",
    "\n",
    "colors = sns.color_palette(\"hls\",32)\n",
    "for col in nonCat.columns:\n",
    "    print(col)\n",
    "    print('Skew :',round(nonCat[col].skew(),2))\n",
    "    plt.figure(figsize=(15,4))\n",
    "    plt.subplot(1,2,1)\n",
    "    nonCat[col].hist(bins=10)\n",
    "    plt.ylabel('count')\n",
    "    plt.subplot(1,2,2)\n",
    "    sns.boxplot(x=nonCat[col],color='#EF476F')\n",
    "    plt.show()"
   ]
  },
  {
   "cell_type": "markdown",
   "id": "1f52a84d-38ef-4df2-a1c6-b895e515c540",
   "metadata": {},
   "source": [
    "## Creating the Machine Learning Model"
   ]
  },
  {
   "cell_type": "markdown",
   "id": "d0b3a4ca-4b9a-4c8f-b5d2-11049aa5f6cd",
   "metadata": {},
   "source": [
    "### Developing Code"
   ]
  },
  {
   "cell_type": "code",
   "execution_count": 24,
   "id": "0ba3a14d-de94-4a2d-804c-59c0f914efff",
   "metadata": {},
   "outputs": [
    {
     "name": "stdout",
     "output_type": "stream",
     "text": [
      "<class 'pandas.core.frame.DataFrame'>\n",
      "Index: 401 entries, 0 to 760\n",
      "Data columns (total 12 columns):\n",
      " #   Column  Non-Null Count  Dtype  \n",
      "---  ------  --------------  -----  \n",
      " 0   cr      401 non-null    float64\n",
      " 1   type    401 non-null    object \n",
      " 2   size    401 non-null    object \n",
      " 3   ac      401 non-null    int64  \n",
      " 4   hp      401 non-null    int64  \n",
      " 5   align   401 non-null    object \n",
      " 6   str     401 non-null    float64\n",
      " 7   dex     401 non-null    float64\n",
      " 8   con     401 non-null    float64\n",
      " 9   int     401 non-null    float64\n",
      " 10  wis     401 non-null    float64\n",
      " 11  cha     401 non-null    float64\n",
      "dtypes: float64(7), int64(2), object(3)\n",
      "memory usage: 40.7+ KB\n"
     ]
    }
   ],
   "source": [
    "dnd.info()"
   ]
  },
  {
   "cell_type": "markdown",
   "id": "5f2dea29-3e7c-4c5f-944a-af84f4ce9a66",
   "metadata": {},
   "source": [
    "#### Dummy Variables"
   ]
  },
  {
   "cell_type": "code",
   "execution_count": 25,
   "id": "1e2f95d9-5c4c-4778-a2cd-f37cb4d397d9",
   "metadata": {},
   "outputs": [],
   "source": [
    "dummyDf = pd.get_dummies(dnd,columns=['type','align','size'], drop_first=True) "
   ]
  },
  {
   "cell_type": "code",
   "execution_count": 26,
   "id": "dee48aab-8bd6-4a73-b664-dbc9dc175ed9",
   "metadata": {},
   "outputs": [
    {
     "data": {
      "text/html": [
       "<div>\n",
       "<style scoped>\n",
       "    .dataframe tbody tr th:only-of-type {\n",
       "        vertical-align: middle;\n",
       "    }\n",
       "\n",
       "    .dataframe tbody tr th {\n",
       "        vertical-align: top;\n",
       "    }\n",
       "\n",
       "    .dataframe thead th {\n",
       "        text-align: right;\n",
       "    }\n",
       "</style>\n",
       "<table border=\"1\" class=\"dataframe\">\n",
       "  <thead>\n",
       "    <tr style=\"text-align: right;\">\n",
       "      <th></th>\n",
       "      <th>cr</th>\n",
       "      <th>ac</th>\n",
       "      <th>hp</th>\n",
       "      <th>str</th>\n",
       "      <th>dex</th>\n",
       "      <th>con</th>\n",
       "      <th>int</th>\n",
       "      <th>wis</th>\n",
       "      <th>cha</th>\n",
       "      <th>type_beast</th>\n",
       "      <th>...</th>\n",
       "      <th>align_neutral</th>\n",
       "      <th>align_neutral evil</th>\n",
       "      <th>align_neutral good</th>\n",
       "      <th>align_neutral good</th>\n",
       "      <th>align_unaligned</th>\n",
       "      <th>size_Huge</th>\n",
       "      <th>size_Large</th>\n",
       "      <th>size_Medium</th>\n",
       "      <th>size_Small</th>\n",
       "      <th>size_Tiny</th>\n",
       "    </tr>\n",
       "  </thead>\n",
       "  <tbody>\n",
       "    <tr>\n",
       "      <th>0</th>\n",
       "      <td>0.25</td>\n",
       "      <td>12</td>\n",
       "      <td>13</td>\n",
       "      <td>10.0</td>\n",
       "      <td>14.0</td>\n",
       "      <td>10.0</td>\n",
       "      <td>11.0</td>\n",
       "      <td>12.0</td>\n",
       "      <td>11.0</td>\n",
       "      <td>False</td>\n",
       "      <td>...</td>\n",
       "      <td>False</td>\n",
       "      <td>False</td>\n",
       "      <td>True</td>\n",
       "      <td>False</td>\n",
       "      <td>False</td>\n",
       "      <td>False</td>\n",
       "      <td>False</td>\n",
       "      <td>True</td>\n",
       "      <td>False</td>\n",
       "      <td>False</td>\n",
       "    </tr>\n",
       "    <tr>\n",
       "      <th>2</th>\n",
       "      <td>10.00</td>\n",
       "      <td>17</td>\n",
       "      <td>135</td>\n",
       "      <td>21.0</td>\n",
       "      <td>9.0</td>\n",
       "      <td>15.0</td>\n",
       "      <td>18.0</td>\n",
       "      <td>15.0</td>\n",
       "      <td>18.0</td>\n",
       "      <td>False</td>\n",
       "      <td>...</td>\n",
       "      <td>False</td>\n",
       "      <td>False</td>\n",
       "      <td>False</td>\n",
       "      <td>False</td>\n",
       "      <td>False</td>\n",
       "      <td>False</td>\n",
       "      <td>True</td>\n",
       "      <td>False</td>\n",
       "      <td>False</td>\n",
       "      <td>False</td>\n",
       "    </tr>\n",
       "    <tr>\n",
       "      <th>5</th>\n",
       "      <td>0.25</td>\n",
       "      <td>10</td>\n",
       "      <td>9</td>\n",
       "      <td>10.0</td>\n",
       "      <td>10.0</td>\n",
       "      <td>10.0</td>\n",
       "      <td>10.0</td>\n",
       "      <td>14.0</td>\n",
       "      <td>11.0</td>\n",
       "      <td>False</td>\n",
       "      <td>...</td>\n",
       "      <td>False</td>\n",
       "      <td>False</td>\n",
       "      <td>False</td>\n",
       "      <td>False</td>\n",
       "      <td>False</td>\n",
       "      <td>False</td>\n",
       "      <td>False</td>\n",
       "      <td>True</td>\n",
       "      <td>False</td>\n",
       "      <td>False</td>\n",
       "    </tr>\n",
       "    <tr>\n",
       "      <th>6</th>\n",
       "      <td>14.00</td>\n",
       "      <td>19</td>\n",
       "      <td>195</td>\n",
       "      <td>23.0</td>\n",
       "      <td>14.0</td>\n",
       "      <td>21.0</td>\n",
       "      <td>14.0</td>\n",
       "      <td>13.0</td>\n",
       "      <td>17.0</td>\n",
       "      <td>False</td>\n",
       "      <td>...</td>\n",
       "      <td>False</td>\n",
       "      <td>False</td>\n",
       "      <td>False</td>\n",
       "      <td>False</td>\n",
       "      <td>False</td>\n",
       "      <td>True</td>\n",
       "      <td>False</td>\n",
       "      <td>False</td>\n",
       "      <td>False</td>\n",
       "      <td>False</td>\n",
       "    </tr>\n",
       "    <tr>\n",
       "      <th>8</th>\n",
       "      <td>16.00</td>\n",
       "      <td>19</td>\n",
       "      <td>225</td>\n",
       "      <td>25.0</td>\n",
       "      <td>10.0</td>\n",
       "      <td>23.0</td>\n",
       "      <td>16.0</td>\n",
       "      <td>15.0</td>\n",
       "      <td>19.0</td>\n",
       "      <td>False</td>\n",
       "      <td>...</td>\n",
       "      <td>False</td>\n",
       "      <td>False</td>\n",
       "      <td>False</td>\n",
       "      <td>False</td>\n",
       "      <td>False</td>\n",
       "      <td>True</td>\n",
       "      <td>False</td>\n",
       "      <td>False</td>\n",
       "      <td>False</td>\n",
       "      <td>False</td>\n",
       "    </tr>\n",
       "    <tr>\n",
       "      <th>...</th>\n",
       "      <td>...</td>\n",
       "      <td>...</td>\n",
       "      <td>...</td>\n",
       "      <td>...</td>\n",
       "      <td>...</td>\n",
       "      <td>...</td>\n",
       "      <td>...</td>\n",
       "      <td>...</td>\n",
       "      <td>...</td>\n",
       "      <td>...</td>\n",
       "      <td>...</td>\n",
       "      <td>...</td>\n",
       "      <td>...</td>\n",
       "      <td>...</td>\n",
       "      <td>...</td>\n",
       "      <td>...</td>\n",
       "      <td>...</td>\n",
       "      <td>...</td>\n",
       "      <td>...</td>\n",
       "      <td>...</td>\n",
       "      <td>...</td>\n",
       "    </tr>\n",
       "    <tr>\n",
       "      <th>753</th>\n",
       "      <td>3.00</td>\n",
       "      <td>12</td>\n",
       "      <td>66</td>\n",
       "      <td>16.0</td>\n",
       "      <td>14.0</td>\n",
       "      <td>13.0</td>\n",
       "      <td>14.0</td>\n",
       "      <td>12.0</td>\n",
       "      <td>16.0</td>\n",
       "      <td>False</td>\n",
       "      <td>...</td>\n",
       "      <td>False</td>\n",
       "      <td>True</td>\n",
       "      <td>False</td>\n",
       "      <td>False</td>\n",
       "      <td>False</td>\n",
       "      <td>False</td>\n",
       "      <td>False</td>\n",
       "      <td>True</td>\n",
       "      <td>False</td>\n",
       "      <td>False</td>\n",
       "    </tr>\n",
       "    <tr>\n",
       "      <th>755</th>\n",
       "      <td>4.00</td>\n",
       "      <td>14</td>\n",
       "      <td>71</td>\n",
       "      <td>16.0</td>\n",
       "      <td>14.0</td>\n",
       "      <td>13.0</td>\n",
       "      <td>14.0</td>\n",
       "      <td>12.0</td>\n",
       "      <td>16.0</td>\n",
       "      <td>False</td>\n",
       "      <td>...</td>\n",
       "      <td>False</td>\n",
       "      <td>True</td>\n",
       "      <td>False</td>\n",
       "      <td>False</td>\n",
       "      <td>False</td>\n",
       "      <td>False</td>\n",
       "      <td>False</td>\n",
       "      <td>True</td>\n",
       "      <td>False</td>\n",
       "      <td>False</td>\n",
       "    </tr>\n",
       "    <tr>\n",
       "      <th>757</th>\n",
       "      <td>1.00</td>\n",
       "      <td>11</td>\n",
       "      <td>40</td>\n",
       "      <td>11.0</td>\n",
       "      <td>12.0</td>\n",
       "      <td>11.0</td>\n",
       "      <td>13.0</td>\n",
       "      <td>12.0</td>\n",
       "      <td>14.0</td>\n",
       "      <td>False</td>\n",
       "      <td>...</td>\n",
       "      <td>False</td>\n",
       "      <td>True</td>\n",
       "      <td>False</td>\n",
       "      <td>False</td>\n",
       "      <td>False</td>\n",
       "      <td>False</td>\n",
       "      <td>False</td>\n",
       "      <td>True</td>\n",
       "      <td>False</td>\n",
       "      <td>False</td>\n",
       "    </tr>\n",
       "    <tr>\n",
       "      <th>759</th>\n",
       "      <td>26.00</td>\n",
       "      <td>21</td>\n",
       "      <td>580</td>\n",
       "      <td>27.0</td>\n",
       "      <td>24.0</td>\n",
       "      <td>28.0</td>\n",
       "      <td>26.0</td>\n",
       "      <td>27.0</td>\n",
       "      <td>30.0</td>\n",
       "      <td>False</td>\n",
       "      <td>...</td>\n",
       "      <td>False</td>\n",
       "      <td>False</td>\n",
       "      <td>False</td>\n",
       "      <td>False</td>\n",
       "      <td>False</td>\n",
       "      <td>False</td>\n",
       "      <td>True</td>\n",
       "      <td>False</td>\n",
       "      <td>False</td>\n",
       "      <td>False</td>\n",
       "    </tr>\n",
       "    <tr>\n",
       "      <th>760</th>\n",
       "      <td>0.25</td>\n",
       "      <td>8</td>\n",
       "      <td>22</td>\n",
       "      <td>13.0</td>\n",
       "      <td>6.0</td>\n",
       "      <td>16.0</td>\n",
       "      <td>3.0</td>\n",
       "      <td>6.0</td>\n",
       "      <td>5.0</td>\n",
       "      <td>False</td>\n",
       "      <td>...</td>\n",
       "      <td>False</td>\n",
       "      <td>True</td>\n",
       "      <td>False</td>\n",
       "      <td>False</td>\n",
       "      <td>False</td>\n",
       "      <td>False</td>\n",
       "      <td>False</td>\n",
       "      <td>True</td>\n",
       "      <td>False</td>\n",
       "      <td>False</td>\n",
       "    </tr>\n",
       "  </tbody>\n",
       "</table>\n",
       "<p>401 rows × 43 columns</p>\n",
       "</div>"
      ],
      "text/plain": [
       "        cr  ac   hp   str   dex   con   int   wis   cha  type_beast  ...  \\\n",
       "0     0.25  12   13  10.0  14.0  10.0  11.0  12.0  11.0       False  ...   \n",
       "2    10.00  17  135  21.0   9.0  15.0  18.0  15.0  18.0       False  ...   \n",
       "5     0.25  10    9  10.0  10.0  10.0  10.0  14.0  11.0       False  ...   \n",
       "6    14.00  19  195  23.0  14.0  21.0  14.0  13.0  17.0       False  ...   \n",
       "8    16.00  19  225  25.0  10.0  23.0  16.0  15.0  19.0       False  ...   \n",
       "..     ...  ..  ...   ...   ...   ...   ...   ...   ...         ...  ...   \n",
       "753   3.00  12   66  16.0  14.0  13.0  14.0  12.0  16.0       False  ...   \n",
       "755   4.00  14   71  16.0  14.0  13.0  14.0  12.0  16.0       False  ...   \n",
       "757   1.00  11   40  11.0  12.0  11.0  13.0  12.0  14.0       False  ...   \n",
       "759  26.00  21  580  27.0  24.0  28.0  26.0  27.0  30.0       False  ...   \n",
       "760   0.25   8   22  13.0   6.0  16.0   3.0   6.0   5.0       False  ...   \n",
       "\n",
       "     align_neutral  align_neutral evil  align_neutral good  \\\n",
       "0            False               False                True   \n",
       "2            False               False               False   \n",
       "5            False               False               False   \n",
       "6            False               False               False   \n",
       "8            False               False               False   \n",
       "..             ...                 ...                 ...   \n",
       "753          False                True               False   \n",
       "755          False                True               False   \n",
       "757          False                True               False   \n",
       "759          False               False               False   \n",
       "760          False                True               False   \n",
       "\n",
       "     align_neutral good   align_unaligned  size_Huge  size_Large  size_Medium  \\\n",
       "0                  False            False      False       False         True   \n",
       "2                  False            False      False        True        False   \n",
       "5                  False            False      False       False         True   \n",
       "6                  False            False       True       False        False   \n",
       "8                  False            False       True       False        False   \n",
       "..                   ...              ...        ...         ...          ...   \n",
       "753                False            False      False       False         True   \n",
       "755                False            False      False       False         True   \n",
       "757                False            False      False       False         True   \n",
       "759                False            False      False        True        False   \n",
       "760                False            False      False       False         True   \n",
       "\n",
       "     size_Small  size_Tiny  \n",
       "0         False      False  \n",
       "2         False      False  \n",
       "5         False      False  \n",
       "6         False      False  \n",
       "8         False      False  \n",
       "..          ...        ...  \n",
       "753       False      False  \n",
       "755       False      False  \n",
       "757       False      False  \n",
       "759       False      False  \n",
       "760       False      False  \n",
       "\n",
       "[401 rows x 43 columns]"
      ]
     },
     "execution_count": 26,
     "metadata": {},
     "output_type": "execute_result"
    }
   ],
   "source": [
    "dummyDf"
   ]
  },
  {
   "cell_type": "code",
   "execution_count": 27,
   "id": "c280559f-0b35-49e6-99e4-c154aa20e8f7",
   "metadata": {},
   "outputs": [],
   "source": [
    "from sklearn.model_selection import train_test_split\n",
    "from sklearn.ensemble import RandomForestRegressor\n",
    "from sklearn.metrics import mean_squared_error\n",
    "from sklearn.model_selection import cross_val_score\n",
    "import sklearn as sk"
   ]
  },
  {
   "cell_type": "markdown",
   "id": "d511940b-0b76-4a6b-99e5-0aa398c7b9bc",
   "metadata": {},
   "source": [
    "#### Splitting Data"
   ]
  },
  {
   "cell_type": "code",
   "execution_count": 28,
   "id": "4b1db957-026f-497f-b2b3-0e85662fac41",
   "metadata": {},
   "outputs": [],
   "source": [
    "X = dummyDf.drop(['cr'],axis=1)\n",
    "Y = dummyDf['cr']"
   ]
  },
  {
   "cell_type": "code",
   "execution_count": 29,
   "id": "9bb83672-ed70-4a90-b049-0772414743bd",
   "metadata": {},
   "outputs": [],
   "source": [
    "\n",
    "trainX,testX,trainY,testY = train_test_split(X,Y, test_size = 0.2, random_state = 123)"
   ]
  },
  {
   "cell_type": "markdown",
   "id": "78f25580-365b-4270-8dab-28067eab1677",
   "metadata": {},
   "source": [
    "#### Making Model"
   ]
  },
  {
   "cell_type": "code",
   "execution_count": 30,
   "id": "fe21eed7-602e-4a7e-a0e6-57a6fc924a55",
   "metadata": {},
   "outputs": [
    {
     "name": "stdout",
     "output_type": "stream",
     "text": [
      "Average score(50): -1.588\n",
      "Average score(100): -1.576\n",
      "Average score(150): -1.567\n",
      "Average score(200): -1.573\n",
      "Average score(250): -1.573\n",
      "Average score(300): -1.575\n",
      "Average score(350): -1.580\n",
      "Average score(2): -2.116\n",
      "Average score(4): -1.632\n",
      "Average score(6): -1.577\n",
      "Average score(8): -1.577\n",
      "Average score(10): -1.570\n",
      "Average score(12): -1.573\n",
      "Average score(14): -1.576\n",
      "Average score(16): -1.577\n",
      "Average score(18): -1.576\n",
      "Average score(20): -1.576\n",
      "Average score(22): -1.576\n",
      "Average score(24): -1.576\n",
      "Average score(26): -1.576\n",
      "Average score(28): -1.576\n",
      "Average score(30): -1.576\n"
     ]
    }
   ],
   "source": [
    "n_estimators = [50, 100, 150, 200, 250, 300, 350]\n",
    "for val in n_estimators:\n",
    "    score = cross_val_score(RandomForestRegressor(n_estimators= val, random_state= 42), X, Y, scoring=\"neg_root_mean_squared_error\")\n",
    "    print(f'Average score({val}): {\"{:.3f}\".format(score.mean())}')\n",
    "#Find optimal depth\n",
    "n_depth = [2,4,6,8,10,12,14,16,18,20,22,24,26,28,30]\n",
    "for val in n_depth:\n",
    "    score = cross_val_score(RandomForestRegressor(n_estimators= 100, max_depth = val, random_state= 42), X, Y, scoring=\"neg_root_mean_squared_error\")\n",
    "    print(f'Average score({val}): {\"{:.3f}\".format(score.mean())}')"
   ]
  },
  {
   "cell_type": "code",
   "execution_count": 31,
   "id": "fb78ec53-1177-4cfd-9033-930fcbddd58e",
   "metadata": {},
   "outputs": [
    {
     "data": {
      "text/html": [
       "<style>#sk-container-id-1 {\n",
       "  /* Definition of color scheme common for light and dark mode */\n",
       "  --sklearn-color-text: black;\n",
       "  --sklearn-color-line: gray;\n",
       "  /* Definition of color scheme for unfitted estimators */\n",
       "  --sklearn-color-unfitted-level-0: #fff5e6;\n",
       "  --sklearn-color-unfitted-level-1: #f6e4d2;\n",
       "  --sklearn-color-unfitted-level-2: #ffe0b3;\n",
       "  --sklearn-color-unfitted-level-3: chocolate;\n",
       "  /* Definition of color scheme for fitted estimators */\n",
       "  --sklearn-color-fitted-level-0: #f0f8ff;\n",
       "  --sklearn-color-fitted-level-1: #d4ebff;\n",
       "  --sklearn-color-fitted-level-2: #b3dbfd;\n",
       "  --sklearn-color-fitted-level-3: cornflowerblue;\n",
       "\n",
       "  /* Specific color for light theme */\n",
       "  --sklearn-color-text-on-default-background: var(--sg-text-color, var(--theme-code-foreground, var(--jp-content-font-color1, black)));\n",
       "  --sklearn-color-background: var(--sg-background-color, var(--theme-background, var(--jp-layout-color0, white)));\n",
       "  --sklearn-color-border-box: var(--sg-text-color, var(--theme-code-foreground, var(--jp-content-font-color1, black)));\n",
       "  --sklearn-color-icon: #696969;\n",
       "\n",
       "  @media (prefers-color-scheme: dark) {\n",
       "    /* Redefinition of color scheme for dark theme */\n",
       "    --sklearn-color-text-on-default-background: var(--sg-text-color, var(--theme-code-foreground, var(--jp-content-font-color1, white)));\n",
       "    --sklearn-color-background: var(--sg-background-color, var(--theme-background, var(--jp-layout-color0, #111)));\n",
       "    --sklearn-color-border-box: var(--sg-text-color, var(--theme-code-foreground, var(--jp-content-font-color1, white)));\n",
       "    --sklearn-color-icon: #878787;\n",
       "  }\n",
       "}\n",
       "\n",
       "#sk-container-id-1 {\n",
       "  color: var(--sklearn-color-text);\n",
       "}\n",
       "\n",
       "#sk-container-id-1 pre {\n",
       "  padding: 0;\n",
       "}\n",
       "\n",
       "#sk-container-id-1 input.sk-hidden--visually {\n",
       "  border: 0;\n",
       "  clip: rect(1px 1px 1px 1px);\n",
       "  clip: rect(1px, 1px, 1px, 1px);\n",
       "  height: 1px;\n",
       "  margin: -1px;\n",
       "  overflow: hidden;\n",
       "  padding: 0;\n",
       "  position: absolute;\n",
       "  width: 1px;\n",
       "}\n",
       "\n",
       "#sk-container-id-1 div.sk-dashed-wrapped {\n",
       "  border: 1px dashed var(--sklearn-color-line);\n",
       "  margin: 0 0.4em 0.5em 0.4em;\n",
       "  box-sizing: border-box;\n",
       "  padding-bottom: 0.4em;\n",
       "  background-color: var(--sklearn-color-background);\n",
       "}\n",
       "\n",
       "#sk-container-id-1 div.sk-container {\n",
       "  /* jupyter's `normalize.less` sets `[hidden] { display: none; }`\n",
       "     but bootstrap.min.css set `[hidden] { display: none !important; }`\n",
       "     so we also need the `!important` here to be able to override the\n",
       "     default hidden behavior on the sphinx rendered scikit-learn.org.\n",
       "     See: https://github.com/scikit-learn/scikit-learn/issues/21755 */\n",
       "  display: inline-block !important;\n",
       "  position: relative;\n",
       "}\n",
       "\n",
       "#sk-container-id-1 div.sk-text-repr-fallback {\n",
       "  display: none;\n",
       "}\n",
       "\n",
       "div.sk-parallel-item,\n",
       "div.sk-serial,\n",
       "div.sk-item {\n",
       "  /* draw centered vertical line to link estimators */\n",
       "  background-image: linear-gradient(var(--sklearn-color-text-on-default-background), var(--sklearn-color-text-on-default-background));\n",
       "  background-size: 2px 100%;\n",
       "  background-repeat: no-repeat;\n",
       "  background-position: center center;\n",
       "}\n",
       "\n",
       "/* Parallel-specific style estimator block */\n",
       "\n",
       "#sk-container-id-1 div.sk-parallel-item::after {\n",
       "  content: \"\";\n",
       "  width: 100%;\n",
       "  border-bottom: 2px solid var(--sklearn-color-text-on-default-background);\n",
       "  flex-grow: 1;\n",
       "}\n",
       "\n",
       "#sk-container-id-1 div.sk-parallel {\n",
       "  display: flex;\n",
       "  align-items: stretch;\n",
       "  justify-content: center;\n",
       "  background-color: var(--sklearn-color-background);\n",
       "  position: relative;\n",
       "}\n",
       "\n",
       "#sk-container-id-1 div.sk-parallel-item {\n",
       "  display: flex;\n",
       "  flex-direction: column;\n",
       "}\n",
       "\n",
       "#sk-container-id-1 div.sk-parallel-item:first-child::after {\n",
       "  align-self: flex-end;\n",
       "  width: 50%;\n",
       "}\n",
       "\n",
       "#sk-container-id-1 div.sk-parallel-item:last-child::after {\n",
       "  align-self: flex-start;\n",
       "  width: 50%;\n",
       "}\n",
       "\n",
       "#sk-container-id-1 div.sk-parallel-item:only-child::after {\n",
       "  width: 0;\n",
       "}\n",
       "\n",
       "/* Serial-specific style estimator block */\n",
       "\n",
       "#sk-container-id-1 div.sk-serial {\n",
       "  display: flex;\n",
       "  flex-direction: column;\n",
       "  align-items: center;\n",
       "  background-color: var(--sklearn-color-background);\n",
       "  padding-right: 1em;\n",
       "  padding-left: 1em;\n",
       "}\n",
       "\n",
       "\n",
       "/* Toggleable style: style used for estimator/Pipeline/ColumnTransformer box that is\n",
       "clickable and can be expanded/collapsed.\n",
       "- Pipeline and ColumnTransformer use this feature and define the default style\n",
       "- Estimators will overwrite some part of the style using the `sk-estimator` class\n",
       "*/\n",
       "\n",
       "/* Pipeline and ColumnTransformer style (default) */\n",
       "\n",
       "#sk-container-id-1 div.sk-toggleable {\n",
       "  /* Default theme specific background. It is overwritten whether we have a\n",
       "  specific estimator or a Pipeline/ColumnTransformer */\n",
       "  background-color: var(--sklearn-color-background);\n",
       "}\n",
       "\n",
       "/* Toggleable label */\n",
       "#sk-container-id-1 label.sk-toggleable__label {\n",
       "  cursor: pointer;\n",
       "  display: block;\n",
       "  width: 100%;\n",
       "  margin-bottom: 0;\n",
       "  padding: 0.5em;\n",
       "  box-sizing: border-box;\n",
       "  text-align: center;\n",
       "}\n",
       "\n",
       "#sk-container-id-1 label.sk-toggleable__label-arrow:before {\n",
       "  /* Arrow on the left of the label */\n",
       "  content: \"▸\";\n",
       "  float: left;\n",
       "  margin-right: 0.25em;\n",
       "  color: var(--sklearn-color-icon);\n",
       "}\n",
       "\n",
       "#sk-container-id-1 label.sk-toggleable__label-arrow:hover:before {\n",
       "  color: var(--sklearn-color-text);\n",
       "}\n",
       "\n",
       "/* Toggleable content - dropdown */\n",
       "\n",
       "#sk-container-id-1 div.sk-toggleable__content {\n",
       "  max-height: 0;\n",
       "  max-width: 0;\n",
       "  overflow: hidden;\n",
       "  text-align: left;\n",
       "  /* unfitted */\n",
       "  background-color: var(--sklearn-color-unfitted-level-0);\n",
       "}\n",
       "\n",
       "#sk-container-id-1 div.sk-toggleable__content.fitted {\n",
       "  /* fitted */\n",
       "  background-color: var(--sklearn-color-fitted-level-0);\n",
       "}\n",
       "\n",
       "#sk-container-id-1 div.sk-toggleable__content pre {\n",
       "  margin: 0.2em;\n",
       "  border-radius: 0.25em;\n",
       "  color: var(--sklearn-color-text);\n",
       "  /* unfitted */\n",
       "  background-color: var(--sklearn-color-unfitted-level-0);\n",
       "}\n",
       "\n",
       "#sk-container-id-1 div.sk-toggleable__content.fitted pre {\n",
       "  /* unfitted */\n",
       "  background-color: var(--sklearn-color-fitted-level-0);\n",
       "}\n",
       "\n",
       "#sk-container-id-1 input.sk-toggleable__control:checked~div.sk-toggleable__content {\n",
       "  /* Expand drop-down */\n",
       "  max-height: 200px;\n",
       "  max-width: 100%;\n",
       "  overflow: auto;\n",
       "}\n",
       "\n",
       "#sk-container-id-1 input.sk-toggleable__control:checked~label.sk-toggleable__label-arrow:before {\n",
       "  content: \"▾\";\n",
       "}\n",
       "\n",
       "/* Pipeline/ColumnTransformer-specific style */\n",
       "\n",
       "#sk-container-id-1 div.sk-label input.sk-toggleable__control:checked~label.sk-toggleable__label {\n",
       "  color: var(--sklearn-color-text);\n",
       "  background-color: var(--sklearn-color-unfitted-level-2);\n",
       "}\n",
       "\n",
       "#sk-container-id-1 div.sk-label.fitted input.sk-toggleable__control:checked~label.sk-toggleable__label {\n",
       "  background-color: var(--sklearn-color-fitted-level-2);\n",
       "}\n",
       "\n",
       "/* Estimator-specific style */\n",
       "\n",
       "/* Colorize estimator box */\n",
       "#sk-container-id-1 div.sk-estimator input.sk-toggleable__control:checked~label.sk-toggleable__label {\n",
       "  /* unfitted */\n",
       "  background-color: var(--sklearn-color-unfitted-level-2);\n",
       "}\n",
       "\n",
       "#sk-container-id-1 div.sk-estimator.fitted input.sk-toggleable__control:checked~label.sk-toggleable__label {\n",
       "  /* fitted */\n",
       "  background-color: var(--sklearn-color-fitted-level-2);\n",
       "}\n",
       "\n",
       "#sk-container-id-1 div.sk-label label.sk-toggleable__label,\n",
       "#sk-container-id-1 div.sk-label label {\n",
       "  /* The background is the default theme color */\n",
       "  color: var(--sklearn-color-text-on-default-background);\n",
       "}\n",
       "\n",
       "/* On hover, darken the color of the background */\n",
       "#sk-container-id-1 div.sk-label:hover label.sk-toggleable__label {\n",
       "  color: var(--sklearn-color-text);\n",
       "  background-color: var(--sklearn-color-unfitted-level-2);\n",
       "}\n",
       "\n",
       "/* Label box, darken color on hover, fitted */\n",
       "#sk-container-id-1 div.sk-label.fitted:hover label.sk-toggleable__label.fitted {\n",
       "  color: var(--sklearn-color-text);\n",
       "  background-color: var(--sklearn-color-fitted-level-2);\n",
       "}\n",
       "\n",
       "/* Estimator label */\n",
       "\n",
       "#sk-container-id-1 div.sk-label label {\n",
       "  font-family: monospace;\n",
       "  font-weight: bold;\n",
       "  display: inline-block;\n",
       "  line-height: 1.2em;\n",
       "}\n",
       "\n",
       "#sk-container-id-1 div.sk-label-container {\n",
       "  text-align: center;\n",
       "}\n",
       "\n",
       "/* Estimator-specific */\n",
       "#sk-container-id-1 div.sk-estimator {\n",
       "  font-family: monospace;\n",
       "  border: 1px dotted var(--sklearn-color-border-box);\n",
       "  border-radius: 0.25em;\n",
       "  box-sizing: border-box;\n",
       "  margin-bottom: 0.5em;\n",
       "  /* unfitted */\n",
       "  background-color: var(--sklearn-color-unfitted-level-0);\n",
       "}\n",
       "\n",
       "#sk-container-id-1 div.sk-estimator.fitted {\n",
       "  /* fitted */\n",
       "  background-color: var(--sklearn-color-fitted-level-0);\n",
       "}\n",
       "\n",
       "/* on hover */\n",
       "#sk-container-id-1 div.sk-estimator:hover {\n",
       "  /* unfitted */\n",
       "  background-color: var(--sklearn-color-unfitted-level-2);\n",
       "}\n",
       "\n",
       "#sk-container-id-1 div.sk-estimator.fitted:hover {\n",
       "  /* fitted */\n",
       "  background-color: var(--sklearn-color-fitted-level-2);\n",
       "}\n",
       "\n",
       "/* Specification for estimator info (e.g. \"i\" and \"?\") */\n",
       "\n",
       "/* Common style for \"i\" and \"?\" */\n",
       "\n",
       ".sk-estimator-doc-link,\n",
       "a:link.sk-estimator-doc-link,\n",
       "a:visited.sk-estimator-doc-link {\n",
       "  float: right;\n",
       "  font-size: smaller;\n",
       "  line-height: 1em;\n",
       "  font-family: monospace;\n",
       "  background-color: var(--sklearn-color-background);\n",
       "  border-radius: 1em;\n",
       "  height: 1em;\n",
       "  width: 1em;\n",
       "  text-decoration: none !important;\n",
       "  margin-left: 1ex;\n",
       "  /* unfitted */\n",
       "  border: var(--sklearn-color-unfitted-level-1) 1pt solid;\n",
       "  color: var(--sklearn-color-unfitted-level-1);\n",
       "}\n",
       "\n",
       ".sk-estimator-doc-link.fitted,\n",
       "a:link.sk-estimator-doc-link.fitted,\n",
       "a:visited.sk-estimator-doc-link.fitted {\n",
       "  /* fitted */\n",
       "  border: var(--sklearn-color-fitted-level-1) 1pt solid;\n",
       "  color: var(--sklearn-color-fitted-level-1);\n",
       "}\n",
       "\n",
       "/* On hover */\n",
       "div.sk-estimator:hover .sk-estimator-doc-link:hover,\n",
       ".sk-estimator-doc-link:hover,\n",
       "div.sk-label-container:hover .sk-estimator-doc-link:hover,\n",
       ".sk-estimator-doc-link:hover {\n",
       "  /* unfitted */\n",
       "  background-color: var(--sklearn-color-unfitted-level-3);\n",
       "  color: var(--sklearn-color-background);\n",
       "  text-decoration: none;\n",
       "}\n",
       "\n",
       "div.sk-estimator.fitted:hover .sk-estimator-doc-link.fitted:hover,\n",
       ".sk-estimator-doc-link.fitted:hover,\n",
       "div.sk-label-container:hover .sk-estimator-doc-link.fitted:hover,\n",
       ".sk-estimator-doc-link.fitted:hover {\n",
       "  /* fitted */\n",
       "  background-color: var(--sklearn-color-fitted-level-3);\n",
       "  color: var(--sklearn-color-background);\n",
       "  text-decoration: none;\n",
       "}\n",
       "\n",
       "/* Span, style for the box shown on hovering the info icon */\n",
       ".sk-estimator-doc-link span {\n",
       "  display: none;\n",
       "  z-index: 9999;\n",
       "  position: relative;\n",
       "  font-weight: normal;\n",
       "  right: .2ex;\n",
       "  padding: .5ex;\n",
       "  margin: .5ex;\n",
       "  width: min-content;\n",
       "  min-width: 20ex;\n",
       "  max-width: 50ex;\n",
       "  color: var(--sklearn-color-text);\n",
       "  box-shadow: 2pt 2pt 4pt #999;\n",
       "  /* unfitted */\n",
       "  background: var(--sklearn-color-unfitted-level-0);\n",
       "  border: .5pt solid var(--sklearn-color-unfitted-level-3);\n",
       "}\n",
       "\n",
       ".sk-estimator-doc-link.fitted span {\n",
       "  /* fitted */\n",
       "  background: var(--sklearn-color-fitted-level-0);\n",
       "  border: var(--sklearn-color-fitted-level-3);\n",
       "}\n",
       "\n",
       ".sk-estimator-doc-link:hover span {\n",
       "  display: block;\n",
       "}\n",
       "\n",
       "/* \"?\"-specific style due to the `<a>` HTML tag */\n",
       "\n",
       "#sk-container-id-1 a.estimator_doc_link {\n",
       "  float: right;\n",
       "  font-size: 1rem;\n",
       "  line-height: 1em;\n",
       "  font-family: monospace;\n",
       "  background-color: var(--sklearn-color-background);\n",
       "  border-radius: 1rem;\n",
       "  height: 1rem;\n",
       "  width: 1rem;\n",
       "  text-decoration: none;\n",
       "  /* unfitted */\n",
       "  color: var(--sklearn-color-unfitted-level-1);\n",
       "  border: var(--sklearn-color-unfitted-level-1) 1pt solid;\n",
       "}\n",
       "\n",
       "#sk-container-id-1 a.estimator_doc_link.fitted {\n",
       "  /* fitted */\n",
       "  border: var(--sklearn-color-fitted-level-1) 1pt solid;\n",
       "  color: var(--sklearn-color-fitted-level-1);\n",
       "}\n",
       "\n",
       "/* On hover */\n",
       "#sk-container-id-1 a.estimator_doc_link:hover {\n",
       "  /* unfitted */\n",
       "  background-color: var(--sklearn-color-unfitted-level-3);\n",
       "  color: var(--sklearn-color-background);\n",
       "  text-decoration: none;\n",
       "}\n",
       "\n",
       "#sk-container-id-1 a.estimator_doc_link.fitted:hover {\n",
       "  /* fitted */\n",
       "  background-color: var(--sklearn-color-fitted-level-3);\n",
       "}\n",
       "</style><div id=\"sk-container-id-1\" class=\"sk-top-container\"><div class=\"sk-text-repr-fallback\"><pre>RandomForestRegressor(max_depth=10, n_estimators=250, random_state=42)</pre><b>In a Jupyter environment, please rerun this cell to show the HTML representation or trust the notebook. <br />On GitHub, the HTML representation is unable to render, please try loading this page with nbviewer.org.</b></div><div class=\"sk-container\" hidden><div class=\"sk-item\"><div class=\"sk-estimator fitted sk-toggleable\"><input class=\"sk-toggleable__control sk-hidden--visually\" id=\"sk-estimator-id-1\" type=\"checkbox\" checked><label for=\"sk-estimator-id-1\" class=\"sk-toggleable__label fitted sk-toggleable__label-arrow fitted\">&nbsp;&nbsp;RandomForestRegressor<a class=\"sk-estimator-doc-link fitted\" rel=\"noreferrer\" target=\"_blank\" href=\"https://scikit-learn.org/1.4/modules/generated/sklearn.ensemble.RandomForestRegressor.html\">?<span>Documentation for RandomForestRegressor</span></a><span class=\"sk-estimator-doc-link fitted\">i<span>Fitted</span></span></label><div class=\"sk-toggleable__content fitted\"><pre>RandomForestRegressor(max_depth=10, n_estimators=250, random_state=42)</pre></div> </div></div></div></div>"
      ],
      "text/plain": [
       "RandomForestRegressor(max_depth=10, n_estimators=250, random_state=42)"
      ]
     },
     "execution_count": 31,
     "metadata": {},
     "output_type": "execute_result"
    }
   ],
   "source": [
    "rfModel = RandomForestRegressor(n_estimators=250, random_state=42,max_depth=10)\n",
    "rfModel.fit(trainX, trainY)"
   ]
  },
  {
   "cell_type": "code",
   "execution_count": 32,
   "id": "905b20db-3735-4ee3-808f-37c1ff3e5595",
   "metadata": {},
   "outputs": [
    {
     "data": {
      "text/plain": [
       "array([2.22275166e+00, 1.92760000e+01, 1.16485000e+01, 4.87387750e-01,\n",
       "       1.72707646e+00, 1.97040000e+01, 3.21382081e+00, 5.32793231e+00,\n",
       "       8.16823015e+00, 5.03299959e-01, 2.93928347e+00, 4.18126163e-01,\n",
       "       8.46597297e+00, 4.82306896e+00, 1.02094822e+00, 1.69795355e-02,\n",
       "       2.45526326e+00, 5.01967197e+00, 1.64692000e-02, 1.51120000e+01,\n",
       "       1.71842714e+00, 4.90571506e-01, 1.09404364e+01, 2.00520000e+01,\n",
       "       2.07000000e+01, 3.29875001e+00, 1.65800000e+01, 1.24150663e+00,\n",
       "       1.11747225e+01, 1.60310387e+00, 1.08215372e-02, 1.64004971e+00,\n",
       "       2.52993725e-01, 1.40797848e+00, 5.95421260e-01, 3.88936367e+00,\n",
       "       9.65960958e-03, 1.34630000e+01, 2.12174611e-01, 5.20595827e+00,\n",
       "       5.30127456e+00, 9.37544416e+00, 5.19633400e+00, 6.56754329e-02,\n",
       "       5.14615958e-01, 1.61802694e-01, 1.70124679e+00, 5.98999434e+00,\n",
       "       5.81271321e-01, 1.77788130e+00, 1.18922225e+01, 1.91160000e+01,\n",
       "       3.49126667e+00, 1.33064000e+01, 2.57890465e-04, 2.37600000e+01,\n",
       "       3.97276376e-01, 4.49438500e+00, 2.26978127e-01, 2.33360387e+00,\n",
       "       2.57174201e-01, 5.83467226e-01, 2.44160000e+01, 2.25693954e-01,\n",
       "       2.57333643e+00, 4.04868374e+00, 2.04854102e-01, 2.08947380e+00,\n",
       "       6.51543550e-02, 5.34412733e+00, 7.58489206e+00, 1.88464764e+00,\n",
       "       3.74004414e+00, 5.45517121e-01, 9.68351958e+00, 1.86907940e+00,\n",
       "       1.14317000e+01, 8.29333871e+00, 2.30334501e-03, 6.97848945e-01,\n",
       "       3.30444167e-01])"
      ]
     },
     "execution_count": 32,
     "metadata": {},
     "output_type": "execute_result"
    }
   ],
   "source": [
    "pred = rfModel.predict(testX)\n",
    "pred\n"
   ]
  },
  {
   "cell_type": "code",
   "execution_count": 58,
   "id": "578a6e4c-e0b3-4ed7-b327-6ff85cd7a9f4",
   "metadata": {},
   "outputs": [
    {
     "name": "stdout",
     "output_type": "stream",
     "text": [
      "Mean Squared Error:  2.974818718402312\n"
     ]
    }
   ],
   "source": [
    "mse = mean_squared_error(testY, pred)\n",
    "print(\"Mean Squared Error: \",mse)"
   ]
  },
  {
   "cell_type": "markdown",
   "id": "6331d6ef-4cd2-45bc-aeee-6f5c4a79f765",
   "metadata": {},
   "source": [
    "#### Plotting Residuals"
   ]
  },
  {
   "cell_type": "code",
   "execution_count": 34,
   "id": "52514348-0c9c-43b2-831a-4335bccd44af",
   "metadata": {},
   "outputs": [],
   "source": [
    "import matplotlib.pyplot as plt"
   ]
  },
  {
   "cell_type": "code",
   "execution_count": 57,
   "id": "58b6a039-1cfa-4800-9588-7bc6dcdfe2eb",
   "metadata": {},
   "outputs": [
    {
     "data": {
      "image/png": "[encoded data removed]",
      "text/plain": [
       "<Figure size 800x800 with 1 Axes>"
      ]
     },
     "metadata": {},
     "output_type": "display_data"
    }
   ],
   "source": [
    "plt.figure(figsize=(8,8))\n",
    "plt.scatter(testY, pred)\n",
    "plt.plot([testY.min(), testY.max()], [testY.min(), testY.max()], 'k--', label='Perfect prediction line')\n",
    "\n",
    "plt.xlabel('Actual Values')\n",
    "\n",
    "plt.ylabel('Predicted Values')\n",
    "plt.grid()\n",
    "plt.title('Random Forest Regression Predictions')\n",
    "plt.savefig('reggression.png')\n",
    "plt.show()\n"
   ]
  },
  {
   "cell_type": "markdown",
   "id": "6b5c91d3-d0be-4380-a55c-ad870eb7589a",
   "metadata": {},
   "source": [
    "### First Iteration: Regular Resources"
   ]
  },
  {
   "cell_type": "markdown",
   "id": "49b5d999-30a5-4cd8-aaff-55d03155e0de",
   "metadata": {},
   "source": [
    "To understand what resources are being used for the control iteration, the psutil package has a way to check environments of a machine."
   ]
  },
  {
   "cell_type": "code",
   "execution_count": 35,
   "id": "7f667241-0c30-4a50-876f-9d0a42d1dee4",
   "metadata": {},
   "outputs": [],
   "source": [
    "#!pip install psutil\n",
    "import psutil"
   ]
  },
  {
   "cell_type": "code",
   "execution_count": 36,
   "id": "c54fe8a1-f8d5-4ee8-8047-48fab71c655c",
   "metadata": {},
   "outputs": [
    {
     "name": "stdout",
     "output_type": "stream",
     "text": [
      "======================================== CPU Info ========================================\n",
      "Physical cores: 4\n",
      "Total cores: 8\n",
      "Max Frequency: 1498.00Mhz\n",
      "Min Frequency: 0.00Mhz\n",
      "Current Frequency: 1498.00Mhz\n",
      "CPU Usage Per Core:\n",
      "Core 0: 45.5%\n",
      "Core 1: 35.4%\n",
      "Core 2: 41.5%\n",
      "Core 3: 39.1%\n",
      "Core 4: 48.4%\n",
      "Core 5: 41.3%\n",
      "Core 6: 33.8%\n",
      "Core 7: 22.6%\n",
      "Total CPU Usage: 36.1%\n"
     ]
    }
   ],
   "source": [
    "print(\"=\"*40, \"CPU Info\", \"=\"*40)\n",
    "\n",
    "print(\"Physical cores:\", psutil.cpu_count(logical=False))\n",
    "print(\"Total cores:\", psutil.cpu_count(logical=True))\n",
    "\n",
    "cpufreq = psutil.cpu_freq()\n",
    "print(f\"Max Frequency: {cpufreq.max:.2f}Mhz\")\n",
    "print(f\"Min Frequency: {cpufreq.min:.2f}Mhz\")\n",
    "print(f\"Current Frequency: {cpufreq.current:.2f}Mhz\")\n",
    "\n",
    "print(\"CPU Usage Per Core:\")\n",
    "for i, percentage in enumerate(psutil.cpu_percent(percpu=True, interval=1)):\n",
    "    print(f\"Core {i}: {percentage}%\")\n",
    "print(f\"Total CPU Usage: {psutil.cpu_percent()}%\")"
   ]
  },
  {
   "cell_type": "markdown",
   "id": "19b74ee6-fd57-47b8-8522-30e4219cff98",
   "metadata": {},
   "source": [
    "To test the implementation of this code against other resources, a continous code must be run and the results should be measured for both the MSE and the time it took to run the program."
   ]
  },
  {
   "cell_type": "code",
   "execution_count": 37,
   "id": "fab5e2e1-63cb-4114-88eb-2d33eac537f7",
   "metadata": {},
   "outputs": [],
   "source": [
    "import time"
   ]
  },
  {
   "cell_type": "code",
   "execution_count": 38,
   "id": "c2f84d03-8e61-4703-aadb-4c3edb2972a2",
   "metadata": {},
   "outputs": [
    {
     "name": "stdout",
     "output_type": "stream",
     "text": [
      "Mean Squared Error:  2.9748187184023114\n",
      "Execution time: 2.2298169136047363 seconds\n",
      "Total CPU Usage: 26.5%\n"
     ]
    },
    {
     "data": {
      "image/png": "[encoded data removed]",
      "text/plain": [
       "<Figure size 640x480 with 1 Axes>"
      ]
     },
     "metadata": {},
     "output_type": "display_data"
    }
   ],
   "source": [
    "start = time.time()\n",
    "\n",
    "X = dummyDf.drop(['cr'],axis=1)\n",
    "Y = dummyDf['cr']\n",
    "\n",
    "trainX,testX,trainY,testY = train_test_split(X,Y, test_size = 0.2, random_state = 123)\n",
    "\n",
    "\n",
    "rfModel = RandomForestRegressor(n_estimators=250, random_state=42,max_depth=10)\n",
    "rfModel.fit(trainX, trainY)\n",
    "\n",
    "pred = rfModel.predict(testX)\n",
    "\n",
    "print(\"Mean Squared Error: \",mean_squared_error(testY, pred))\n",
    "\n",
    "plt.scatter(testY, pred)\n",
    "\n",
    "plt.plot([testY.min(), testY.max()], [testY.min(), testY.max()], 'k--', label='Perfect prediction line')\n",
    "\n",
    "plt.xlabel('Actual Values')\n",
    "\n",
    "plt.ylabel('Predicted Values')\n",
    "plt.grid()\n",
    "plt.title('Random Forest Regression Predictions')\n",
    "\n",
    "plt.savefig('normal.png')\n",
    "\n",
    "\n",
    "end = time.time()\n",
    "print(f\"Execution time: {end - start} seconds\")\n",
    "print(f\"Total CPU Usage: {psutil.cpu_percent()}%\")\n"
   ]
  },
  {
   "cell_type": "code",
   "execution_count": 39,
   "id": "491a6689-59c6-4c97-acab-e8ce83b6662f",
   "metadata": {},
   "outputs": [],
   "source": [
    "Time1 = end-start\n",
    "re1 = psutil.cpu_percent()"
   ]
  },
  {
   "cell_type": "markdown",
   "id": "b1a3a8b2-403f-4538-bda1-df791e6c070e",
   "metadata": {},
   "source": [
    "### Second Iteration: SKlearn Multi-Processing"
   ]
  },
  {
   "cell_type": "markdown",
   "id": "cc9c92ec-b373-42fe-8668-4bef14b8bd3b",
   "metadata": {},
   "source": [
    "According to the SKlearn documentation, it has a built in backend for controlling parallel processing jobs: \"Joblib is able to support both multi-processing and multi-threading. Whether joblib chooses to spawn a thread or a process depends on the backend that it’s using.\"\r\n",
    "\r\n"
   ]
  },
  {
   "cell_type": "markdown",
   "id": "239bacc2-61ae-4b90-aa1b-8ed41d2d5b01",
   "metadata": {},
   "source": [
    "#### Threading"
   ]
  },
  {
   "cell_type": "code",
   "execution_count": 40,
   "id": "97f1f6c1-9e7d-4cf8-84d9-abfba107e0da",
   "metadata": {},
   "outputs": [],
   "source": [
    "from joblib import parallel_backend"
   ]
  },
  {
   "cell_type": "code",
   "execution_count": 44,
   "id": "0d5b9d2d-1fef-47e6-8c1d-3000639bf4a0",
   "metadata": {},
   "outputs": [
    {
     "name": "stdout",
     "output_type": "stream",
     "text": [
      "Mean Squared Error:  2.9748187184023114\n",
      "Execution time: 1.758258581161499 seconds\n",
      "Total CPU Usage: 30.7%\n"
     ]
    },
    {
     "data": {
      "image/png": "[encoded data removed]",
      "text/plain": [
       "<Figure size 640x480 with 1 Axes>"
      ]
     },
     "metadata": {},
     "output_type": "display_data"
    }
   ],
   "source": [
    "start = time.time()\n",
    "with parallel_backend('threading', n_jobs=2):\n",
    "\n",
    "    X = dummyDf.drop(['cr'],axis=1)\n",
    "    Y = dummyDf['cr']\n",
    "\n",
    "    \n",
    "    trainX,testX,trainY,testY = train_test_split(X,Y, test_size = 0.2, random_state = 123)\n",
    "\n",
    "    rfModel = RandomForestRegressor(n_estimators=250, random_state=42,max_depth=10)\n",
    "    rfModel.fit(trainX, trainY)\n",
    "\n",
    "    pred = rfModel.predict(testX)\n",
    "\n",
    "    print(\"Mean Squared Error: \",mean_squared_error(testY, pred))\n",
    "\n",
    "\n",
    "    plt.scatter(testY, pred)\n",
    "\n",
    "    plt.plot([testY.min(), testY.max()], [testY.min(), testY.max()], 'k--', label='Perfect prediction line')\n",
    "\n",
    "    plt.xlabel('Actual Values')\n",
    "    plt.grid()\n",
    "\n",
    "    plt.ylabel('Predicted Values')\n",
    "\n",
    "    plt.title('Random Forest Regression Predictions')\n",
    "\n",
    "    plt.savefig('threading.png')\n",
    "    \n",
    "end = time.time()\n",
    "\n",
    "print(f\"Execution time: {end - start} seconds\")\n",
    "print(f\"Total CPU Usage: {psutil.cpu_percent()}%\")\n"
   ]
  },
  {
   "cell_type": "code",
   "execution_count": 42,
   "id": "854592ba-bd88-4255-befd-44b54b2604a1",
   "metadata": {},
   "outputs": [],
   "source": [
    "Time2 = end-start\n",
    "re2 = psutil.cpu_percent()"
   ]
  },
  {
   "cell_type": "markdown",
   "id": "5c21b590-bd1a-4b46-b7da-4d823d9c8b20",
   "metadata": {},
   "source": [
    "#### Multiprocessing"
   ]
  },
  {
   "cell_type": "code",
   "execution_count": 45,
   "id": "157e1af6-1567-4b83-a8d6-03560ae0e4ca",
   "metadata": {},
   "outputs": [
    {
     "name": "stdout",
     "output_type": "stream",
     "text": [
      "Mean Squared Error:  2.974818718402312\n",
      "Execution time: 3.9905037879943848 seconds\n",
      "Total CPU Usage: 30.8%\n"
     ]
    },
    {
     "data": {
      "image/png": "[encoded data removed]",
      "text/plain": [
       "<Figure size 640x480 with 1 Axes>"
      ]
     },
     "metadata": {},
     "output_type": "display_data"
    }
   ],
   "source": [
    "start = time.time()\n",
    "with parallel_backend('multiprocessing', n_jobs=2):\n",
    "\n",
    "    X = dummyDf.drop(['cr'],axis=1)\n",
    "    Y = dummyDf['cr']\n",
    "\n",
    "    \n",
    "    trainX,testX,trainY,testY = train_test_split(X,Y, test_size = 0.2, random_state = 123)\n",
    "\n",
    "    rfModel = RandomForestRegressor(n_estimators=250, random_state=42,max_depth=10)\n",
    "    rfModel.fit(trainX, trainY)\n",
    "\n",
    "    pred = rfModel.predict(testX)\n",
    "\n",
    "    print(\"Mean Squared Error: \",mean_squared_error(testY, pred))\n",
    "\n",
    "\n",
    "    plt.scatter(testY, pred)\n",
    "\n",
    "    plt.plot([testY.min(), testY.max()], [testY.min(), testY.max()], 'k--', label='Perfect prediction line')\n",
    "\n",
    "    plt.xlabel('Actual Values')\n",
    "    plt.grid()\n",
    "\n",
    "    plt.ylabel('Predicted Values')\n",
    "\n",
    "    plt.title('Random Forest Regression Predictions')\n",
    "\n",
    "    plt.savefig('multiprocessing.png')\n",
    "\n",
    "    \n",
    "end = time.time()\n",
    "print(f\"Execution time: {end - start} seconds\")\n",
    "print(f\"Total CPU Usage: {psutil.cpu_percent()}%\")\n"
   ]
  },
  {
   "cell_type": "code",
   "execution_count": 46,
   "id": "38ae5813-b416-4c6b-9c00-9c8f2d574fc3",
   "metadata": {},
   "outputs": [],
   "source": [
    "Time3 = end-start\n",
    "re3 = psutil.cpu_percent()"
   ]
  },
  {
   "cell_type": "markdown",
   "id": "addaca7d-989c-411d-a5d6-7670e27fd134",
   "metadata": {},
   "source": [
    "### Third Iteration: Resource Alocation"
   ]
  },
  {
   "cell_type": "markdown",
   "id": "bd44434e-f49d-44b5-8388-2b791ffbd733",
   "metadata": {},
   "source": [
    "The third way to test how execution time of the regression model is affected by parameters is through using a different machine. For the machine, for this section, ptolemy cluster from Mississippi State High Performance Computing Center will be used. A slurm file will be created in this notebook listing parameters."
   ]
  },
  {
   "cell_type": "markdown",
   "id": "9ac393e4-4eab-4054-9e6a-b02e60bf7d5d",
   "metadata": {},
   "source": [
    "#### Single Core"
   ]
  },
  {
   "cell_type": "markdown",
   "id": "3ba997d5-bd12-4514-96a0-0b3af45bd41e",
   "metadata": {},
   "source": [
    "First, the script needs to be downloaded into a python file, along with the updated dataset."
   ]
  },
  {
   "cell_type": "code",
   "execution_count": 30,
   "id": "3a19653f-6a3e-47c6-9610-ba4e9663489f",
   "metadata": {},
   "outputs": [
    {
     "name": "stdout",
     "output_type": "stream",
     "text": [
      "new dataset created\n"
     ]
    }
   ],
   "source": [
    "dummyDf.to_csv('monstersNew.csv', index=False)\n",
    "print(\"new dataset created\")"
   ]
  },
  {
   "cell_type": "code",
   "execution_count": 7,
   "id": "e3462f36-9d1e-49e9-a864-6a243cb46043",
   "metadata": {},
   "outputs": [
    {
     "name": "stdout",
     "output_type": "stream",
     "text": [
      "Overwriting reggression1.py\n"
     ]
    }
   ],
   "source": [
    "%%writefile reggression1.py\n",
    "\n",
    "#libraries \n",
    "import pandas as pd\n",
    "from sklearn.model_selection import train_test_split\n",
    "from sklearn.ensemble import RandomForestRegressor\n",
    "from sklearn.metrics import mean_squared_error\n",
    "from sklearn.model_selection import cross_val_score\n",
    "import sklearn as sk\n",
    "import pandas as pd\n",
    "import seaborn as sns\n",
    "import matplotlib.pyplot as plt\n",
    "import numpy as np\n",
    "import psutil\n",
    "import time\n",
    "\n",
    "\n",
    "dummyDf = pd.read_csv('/scratch/ptolemy/users/rnt89/FinalProject/monstersNew.csv')\n",
    "start = time.time()\n",
    "\n",
    "X = dummyDf.drop(['cr'],axis=1)\n",
    "Y = dummyDf['cr']\n",
    "\n",
    "trainX,testX,trainY,testY = train_test_split(X,Y, test_size = 0.2, random_state = 123)\n",
    "\n",
    "\n",
    "rfModel = RandomForestRegressor(n_estimators=250, random_state=42,max_depth=10)\n",
    "rfModel.fit(trainX, trainY)\n",
    "\n",
    "pred = rfModel.predict(testX)\n",
    "\n",
    "print(\"Mean Squared Error: \",mean_squared_error(testY, pred))\n",
    "\n",
    "plt.scatter(testY, pred)\n",
    "\n",
    "plt.plot([testY.min(), testY.max()], [testY.min(), testY.max()], 'k--', label='Perfect prediction line')\n",
    "\n",
    "plt.xlabel('Actual Values')\n",
    "\n",
    "plt.ylabel('Predicted Values')\n",
    "plt.grid()\n",
    "plt.title('Random Forest Regression Predictions')\n",
    "plt.savefig('singleCore.png')\n",
    "\n",
    "\n",
    "end = time.time()\n",
    "print(f\"Execution time: {end - start} seconds\")\n",
    "print(f\"Total CPU Usage: {psutil.cpu_percent()}%\")\n"
   ]
  },
  {
   "cell_type": "code",
   "execution_count": 6,
   "id": "57b58f99-4f81-479b-ba9e-0017298825a1",
   "metadata": {},
   "outputs": [
    {
     "name": "stdout",
     "output_type": "stream",
     "text": [
      "Overwriting SingleCore.slurm\n"
     ]
    }
   ],
   "source": [
    "%%writefile SingleCore.slurm\n",
    "#!/bin/bash\n",
    "#SBATCH --job-name=SingleCore\n",
    "#SBATCH --nodes=1\n",
    "#SBATCH --ntasks=1\n",
    "#SBATCH --cpus-per-task=1\n",
    "#SBATCH --partition=gpu-a100\n",
    "#SBATCH --gres=gpu:a100_1g.10gb:1\n",
    "#SBATCH --mem=32G\n",
    "#SBATCH --time=2:00:00\n",
    "#SBATCH --output=output-%j.out\n",
    "#SBATCH --error=error-%j.out\n",
    "#SBATCH -A class-dsci2022\n",
    "\n",
    "# Load modules\n",
    "module load python/3.10.8\n",
    "ml miniconda3/24.3.0\n",
    "# Activate your Python environment if needed\n",
    "source activate lab_env\n",
    "\n",
    "# Run the Python script\n",
    "python reggression1.py\n"
   ]
  },
  {
   "cell_type": "markdown",
   "id": "a2e48783-ea72-499a-bb07-bd3763a262b6",
   "metadata": {},
   "source": [
    "The job is then run using the terminal script given here:"
   ]
  },
  {
   "cell_type": "markdown",
   "id": "db8312a1-97ec-4050-b173-dbbbe30ba693",
   "metadata": {},
   "source": [
    "**Written in terminal:**\n",
    "\n",
    "<span style=\"background-color: lightgrey;\">ssh [username]</span>\n",
    "\n",
    "<span style=\"background-color: lightgrey;\">cd /scratch/ptolemy/users/rnt89/FinalProject</span>\n",
    "\n",
    "<span style=\"background-color: lightgrey;\">sbatch SingleCore.slurm</span>\n"
   ]
  },
  {
   "cell_type": "markdown",
   "id": "1ce38395-2bb1-4995-9ee4-6693901a0dc3",
   "metadata": {},
   "source": [
    "Seeing Results:"
   ]
  },
  {
   "cell_type": "code",
   "execution_count": 10,
   "id": "98e86542-365c-4610-acfe-3bc11b2c6e4d",
   "metadata": {},
   "outputs": [
    {
     "name": "stdout",
     "output_type": "stream",
     "text": [
      "Mean Squared Error:  2.9748187184023114\n",
      "Execution time: 0.6713390350341797 seconds\n",
      "Total CPU Usage: 0.5%\n",
      "\n"
     ]
    }
   ],
   "source": [
    "with open('output-28712.out', 'r') as f:\n",
    "    file_contents = f.read()\n",
    "print(file_contents)"
   ]
  },
  {
   "cell_type": "markdown",
   "id": "9cbb3661-e4ca-4e42-a4e9-a2850f15b165",
   "metadata": {},
   "source": [
    "#### Multi Core"
   ]
  },
  {
   "cell_type": "markdown",
   "id": "0b5abf53-d29e-4ab6-b30f-0ddc09b4c54a",
   "metadata": {},
   "source": [
    "Creating a new slurm file that has the parameter of it being a multi core job:"
   ]
  },
  {
   "cell_type": "code",
   "execution_count": 8,
   "id": "c10d61eb-b781-4bef-8945-5ef657226fa6",
   "metadata": {},
   "outputs": [
    {
     "name": "stdout",
     "output_type": "stream",
     "text": [
      "Writing reggression2.py\n"
     ]
    }
   ],
   "source": [
    "%%writefile reggression2.py\n",
    "\n",
    "#libraries \n",
    "import pandas as pd\n",
    "from sklearn.model_selection import train_test_split\n",
    "from sklearn.ensemble import RandomForestRegressor\n",
    "from sklearn.metrics import mean_squared_error\n",
    "from sklearn.model_selection import cross_val_score\n",
    "import sklearn as sk\n",
    "import pandas as pd\n",
    "import seaborn as sns\n",
    "import matplotlib.pyplot as plt\n",
    "import numpy as np\n",
    "import psutil\n",
    "import time\n",
    "\n",
    "\n",
    "dummyDf = pd.read_csv('/scratch/ptolemy/users/rnt89/FinalProject/monstersNew.csv')\n",
    "start = time.time()\n",
    "\n",
    "X = dummyDf.drop(['cr'],axis=1)\n",
    "Y = dummyDf['cr']\n",
    "\n",
    "trainX,testX,trainY,testY = train_test_split(X,Y, test_size = 0.2, random_state = 123)\n",
    "\n",
    "\n",
    "rfModel = RandomForestRegressor(n_estimators=250, random_state=42,max_depth=10)\n",
    "rfModel.fit(trainX, trainY)\n",
    "\n",
    "pred = rfModel.predict(testX)\n",
    "\n",
    "print(\"Mean Squared Error: \",mean_squared_error(testY, pred))\n",
    "\n",
    "plt.scatter(testY, pred)\n",
    "\n",
    "plt.plot([testY.min(), testY.max()], [testY.min(), testY.max()], 'k--', label='Perfect prediction line')\n",
    "\n",
    "plt.xlabel('Actual Values')\n",
    "\n",
    "plt.ylabel('Predicted Values')\n",
    "plt.grid()\n",
    "plt.title('Random Forest Regression Predictions')\n",
    "plt.savefig('multiCore.png')\n",
    "\n",
    "\n",
    "end = time.time()\n",
    "print(f\"Execution time: {end - start} seconds\")\n",
    "print(f\"Total CPU Usage: {psutil.cpu_percent()}%\")\n"
   ]
  },
  {
   "cell_type": "code",
   "execution_count": 9,
   "id": "881bf43d-4ad4-4a05-ab78-b039ffb3cd48",
   "metadata": {},
   "outputs": [
    {
     "name": "stdout",
     "output_type": "stream",
     "text": [
      "Overwriting MultiCore.slurm\n"
     ]
    }
   ],
   "source": [
    "%%writefile MultiCore.slurm\n",
    "#!/bin/bash\n",
    "#SBATCH --job-name=SingleCore\n",
    "#SBATCH --nodes=2\n",
    "#SBATCH --ntasks=2\n",
    "#SBATCH --cpus-per-task=8\n",
    "#SBATCH --partition=gpu-a100\n",
    "#SBATCH --gres=gpu:a100_1g.10gb:1\n",
    "#SBATCH --mem=32G\n",
    "#SBATCH --time=2:00:00\n",
    "#SBATCH --output=output-%j.out\n",
    "#SBATCH --error=error-%j.out\n",
    "#SBATCH -A class-dsci2022\n",
    "\n",
    "# Load modules\n",
    "module load python/3.10.8\n",
    "ml miniconda3/24.3.0\n",
    "# Activate your Python environment if needed\n",
    "source activate lab_env\n",
    "\n",
    "# Run the Python script\n",
    "python reggression2.py\n"
   ]
  },
  {
   "cell_type": "markdown",
   "id": "97f99ad5-d0a5-456b-a2b2-529ad26c30cf",
   "metadata": {},
   "source": [
    "The terminal script to run the multiCore job:"
   ]
  },
  {
   "cell_type": "markdown",
   "id": "d28730b5-afe6-47e5-bf87-7f700d59eb9c",
   "metadata": {},
   "source": [
    "**Written in terminal:**\n",
    "\n",
    "<span style=\"background-color: lightgrey;\">ssh [username]</span>\n",
    "\n",
    "<span style=\"background-color: lightgrey;\">cd /scratch/ptolemy/users/rnt89/FinalProject</span>\n",
    "\n",
    "<span style=\"background-color: lightgrey;\">sbatch MultiCore.slurm</span>\n"
   ]
  },
  {
   "cell_type": "markdown",
   "id": "228a078a-05f3-48f6-822a-a800c3a8a65e",
   "metadata": {},
   "source": [
    "Seeing Results: "
   ]
  },
  {
   "cell_type": "code",
   "execution_count": 11,
   "id": "eda1f21a-60c0-4b9e-9d3f-a21dd9652200",
   "metadata": {},
   "outputs": [
    {
     "name": "stdout",
     "output_type": "stream",
     "text": [
      "Mean Squared Error:  2.9748187184023114\n",
      "Execution time: 0.4283304214477539 seconds\n",
      "Total CPU Usage: 0.8%\n",
      "\n"
     ]
    }
   ],
   "source": [
    "with open('output-28713.out', 'r') as f:\n",
    "    file_contents = f.read()\n",
    "print(file_contents)"
   ]
  },
  {
   "cell_type": "markdown",
   "id": "ee2dfbef-b5b8-4dd9-819a-ba19400b93e9",
   "metadata": {},
   "source": [
    "## Evalutation and Results"
   ]
  },
  {
   "cell_type": "markdown",
   "id": "9cdec34e-732e-4a6b-88eb-bd6d0001697b",
   "metadata": {},
   "source": [
    "For better comparison, visualizations and a table will be made of the results. "
   ]
  },
  {
   "cell_type": "code",
   "execution_count": 48,
   "id": "919f61b2-a400-4562-8d99-ce7443a21a6d",
   "metadata": {},
   "outputs": [],
   "source": [
    "results = {'TestName': ['Normal', 'MultiThreading', 'MultiProcessing','SingleCore','MultiCore'], 'TestTime': [Time1, Time2, Time3,0.6713390350341797,0.4283304214477539],'TestResources':[re1,re2,re3,0.8,0.8]}\n",
    "resultsDf = pd.DataFrame(results)"
   ]
  },
  {
   "cell_type": "code",
   "execution_count": 49,
   "id": "24940ecf-a402-402b-822d-c77bbf95c03b",
   "metadata": {},
   "outputs": [
    {
     "data": {
      "image/png": "[encoded data removed]",
      "text/plain": [
       "<Figure size 1600x800 with 1 Axes>"
      ]
     },
     "metadata": {},
     "output_type": "display_data"
    }
   ],
   "source": [
    "plt.figure(figsize=(16,8))\n",
    "palette = sns.color_palette(\"rocket\",5)\n",
    "sns.barplot(x=resultsDf['TestName'], y=resultsDf['TestTime'],hue=resultsDf['TestName'],palette=palette)\n",
    "plt.grid(True)\n",
    "plt.title('Times (seconds)')\n",
    "plt.xticks(wrap=True,fontsize=10)\n",
    "plt.xlabel('Test Name')\n",
    "plt.ylabel('Seconds')\n",
    "plt.show()"
   ]
  },
  {
   "cell_type": "code",
   "execution_count": 51,
   "id": "d8e61f85-57b7-4e75-9f73-4ebf0b30ce7f",
   "metadata": {},
   "outputs": [
    {
     "data": {
      "text/html": [
       "<div>\n",
       "<style scoped>\n",
       "    .dataframe tbody tr th:only-of-type {\n",
       "        vertical-align: middle;\n",
       "    }\n",
       "\n",
       "    .dataframe tbody tr th {\n",
       "        vertical-align: top;\n",
       "    }\n",
       "\n",
       "    .dataframe thead th {\n",
       "        text-align: right;\n",
       "    }\n",
       "</style>\n",
       "<table border=\"1\" class=\"dataframe\">\n",
       "  <thead>\n",
       "    <tr style=\"text-align: right;\">\n",
       "      <th></th>\n",
       "      <th>TestName</th>\n",
       "      <th>TestTime</th>\n",
       "      <th>TestResources</th>\n",
       "    </tr>\n",
       "  </thead>\n",
       "  <tbody>\n",
       "    <tr>\n",
       "      <th>0</th>\n",
       "      <td>Normal</td>\n",
       "      <td>2.229817</td>\n",
       "      <td>22.6</td>\n",
       "    </tr>\n",
       "    <tr>\n",
       "      <th>1</th>\n",
       "      <td>MultiThreading</td>\n",
       "      <td>1.825938</td>\n",
       "      <td>26.9</td>\n",
       "    </tr>\n",
       "    <tr>\n",
       "      <th>2</th>\n",
       "      <td>MultiProcessing</td>\n",
       "      <td>3.990504</td>\n",
       "      <td>24.1</td>\n",
       "    </tr>\n",
       "    <tr>\n",
       "      <th>3</th>\n",
       "      <td>SingleCore</td>\n",
       "      <td>0.671339</td>\n",
       "      <td>0.8</td>\n",
       "    </tr>\n",
       "    <tr>\n",
       "      <th>4</th>\n",
       "      <td>MultiCore</td>\n",
       "      <td>0.428330</td>\n",
       "      <td>0.8</td>\n",
       "    </tr>\n",
       "  </tbody>\n",
       "</table>\n",
       "</div>"
      ],
      "text/plain": [
       "          TestName  TestTime  TestResources\n",
       "0           Normal  2.229817           22.6\n",
       "1   MultiThreading  1.825938           26.9\n",
       "2  MultiProcessing  3.990504           24.1\n",
       "3       SingleCore  0.671339            0.8\n",
       "4        MultiCore  0.428330            0.8"
      ]
     },
     "execution_count": 51,
     "metadata": {},
     "output_type": "execute_result"
    }
   ],
   "source": [
    "resultsDf"
   ]
  },
  {
   "cell_type": "code",
   "execution_count": 50,
   "id": "6f99e73b-2674-4986-bfa7-5fe8c4f45aec",
   "metadata": {},
   "outputs": [
    {
     "data": {
      "image/png": "[encoded data removed]",
      "text/plain": [
       "<Figure size 1600x800 with 1 Axes>"
      ]
     },
     "metadata": {},
     "output_type": "display_data"
    }
   ],
   "source": [
    "plt.figure(figsize=(16,8))\n",
    "palette = sns.color_palette(\"rocket\",4)\n",
    "sns.barplot(x=resultsDf['TestName'], y=resultsDf['TestResources'],hue=resultsDf['TestResources'],palette= palette)\n",
    "plt.grid(True)\n",
    "plt.title('CPU resources (percentage)')\n",
    "plt.xticks(wrap=True,fontsize=10)\n",
    "plt.xlabel('Test Name')\n",
    "plt.ylabel('percentage')\n",
    "plt.show()"
   ]
  },
  {
   "cell_type": "code",
   "execution_count": null,
   "id": "5ad0498d-58d3-4288-9b1a-9da73feea477",
   "metadata": {},
   "outputs": [],
   "source": []
  }
 ],
 "metadata": {
  "kernelspec": {
   "display_name": "Python 3 (ipykernel)",
   "language": "python",
   "name": "python3"
  },
  "language_info": {
   "codemirror_mode": {
    "name": "ipython",
    "version": 3
   },
   "file_extension": ".py",
   "mimetype": "text/x-python",
   "name": "python",
   "nbconvert_exporter": "python",
   "pygments_lexer": "ipython3",
   "version": "3.12.4"
  }
 },
 "nbformat": 4,
 "nbformat_minor": 5
}
